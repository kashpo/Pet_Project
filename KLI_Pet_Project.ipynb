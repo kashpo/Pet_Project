{
 "cells": [
  {
   "cell_type": "code",
   "execution_count": 1,
   "id": "b6448b64",
   "metadata": {},
   "outputs": [],
   "source": [
    "import numpy as np\n",
    "import math as mt\n",
    "import array as arrimport"
   ]
  },
  {
   "cell_type": "code",
   "execution_count": 2,
   "id": "d22295b8",
   "metadata": {},
   "outputs": [],
   "source": [
    "r0 = 5\n",
    "x0 = 1\n",
    "ro= 810\n",
    "nu = 2.85 * (10**(-6))\n",
    "c = 0.5\n",
    "h = 0.125\n",
    "A = 2000\n",
    "C = 1500\n",
    "k = (A-C)*r0/A\n",
    "ep = 8*ro*mt.sqrt(nu*mt.pi)*(h**2)*(c**2)/A"
   ]
  },
  {
   "cell_type": "code",
   "execution_count": 3,
   "id": "30f2c02f",
   "metadata": {},
   "outputs": [],
   "source": [
    "def func10(t):\n",
    "    p = x0 * mt.sin(k*(mt.sqrt(t)+r0*t - ep*A*c*(4*h+c)*r0*(t**(3/2))/(4*(h**2)*C))/r0)\n",
    "    return p"
   ]
  },
  {
   "cell_type": "code",
   "execution_count": 4,
   "id": "283cb00c",
   "metadata": {},
   "outputs": [],
   "source": [
    "def func20(t):\n",
    "    q = x0*mt.cos(k*(mt.sqrt(t)+r0*t-ep*A*c*(4*h+c)*r0*(t**(3/2))/(4*(h**2)*C))/r0)\n",
    "    return q"
   ]
  },
  {
   "cell_type": "code",
   "execution_count": 5,
   "id": "a078cb60",
   "metadata": {},
   "outputs": [],
   "source": [
    "def func30(t):\n",
    "    r = r0 - ep*A*c*(4*h+c)*r0*(t**(3/2))/(4*(h**2)*C)\n",
    "    return r"
   ]
  },
  {
   "cell_type": "code",
   "execution_count": 6,
   "id": "d23c461f",
   "metadata": {},
   "outputs": [],
   "source": [
    "func10_results=[func10(ti) for ti in range(1,101)]\n",
    "func20_results=[func20(ti) for ti in range(1,101)]\n",
    "func30_results=[func30(ti) for ti in range(1,101)]"
   ]
  },
  {
   "cell_type": "code",
   "execution_count": 7,
   "id": "f2d01dee",
   "metadata": {},
   "outputs": [],
   "source": [
    "mf = np.array([func10_results, func20_results, func30_results])\n",
    "pqr = np.empty([3,70])"
   ]
  },
  {
   "cell_type": "code",
   "execution_count": 8,
   "id": "89b1c174",
   "metadata": {},
   "outputs": [],
   "source": [
    "t1 = list(range(1, 101))\n",
    "t = np.array(t1)"
   ]
  },
  {
   "cell_type": "code",
   "execution_count": 9,
   "id": "6ef2ad01",
   "metadata": {},
   "outputs": [],
   "source": [
    "import csv"
   ]
  },
  {
   "cell_type": "code",
   "execution_count": 12,
   "id": "eb929674",
   "metadata": {},
   "outputs": [],
   "source": [
    "with open(\"Linka.csv\", mode=\"w\", encoding='utf-8') as w_file:\n",
    "    file_writer = csv.writer(w_file, delimiter = \",\", lineterminator=\"\\r\")\n",
    "    file_writer.writerow([\"p\", \"q\", \"r\",\"t\"])\n",
    "    for i in range(0, 100):\n",
    "        file_writer.writerow([func10_results[i], func20_results[i], func30_results[i],t[i]])"
   ]
  },
  {
   "cell_type": "code",
   "execution_count": null,
   "id": "d17b9478",
   "metadata": {},
   "outputs": [],
   "source": []
  }
 ],
 "metadata": {
  "kernelspec": {
   "display_name": "Python 3 (ipykernel)",
   "language": "python",
   "name": "python3"
  },
  "language_info": {
   "codemirror_mode": {
    "name": "ipython",
    "version": 3
   },
   "file_extension": ".py",
   "mimetype": "text/x-python",
   "name": "python",
   "nbconvert_exporter": "python",
   "pygments_lexer": "ipython3",
   "version": "3.7.9"
  }
 },
 "nbformat": 4,
 "nbformat_minor": 5
}
